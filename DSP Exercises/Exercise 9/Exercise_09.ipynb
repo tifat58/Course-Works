{
 "cells": [
  {
   "cell_type": "code",
   "execution_count": 1,
   "metadata": {},
   "outputs": [],
   "source": [
    "import numpy as np"
   ]
  },
  {
   "cell_type": "code",
   "execution_count": 24,
   "metadata": {},
   "outputs": [
    {
     "data": {
      "text/plain": [
       "(462, 9)"
      ]
     },
     "execution_count": 24,
     "metadata": {},
     "output_type": "execute_result"
    }
   ],
   "source": [
    "data_x = []\n",
    "data_y = []\n",
    "with open('SAheart.data.txt', 'r') as file:\n",
    "    lines = file.readlines()\n",
    "    column_names = line[0].strip().split(',')\n",
    "    for line in lines[1:]:\n",
    "        myarray = line.strip().split(',')\n",
    "        \n",
    "        data_y.append(myarray[10])\n",
    "        del myarray[5]\n",
    "        del myarray[9]\n",
    "        data_x.append(myarray)\n",
    "\n",
    "data_x = np.asarray(data_x, dtype=np.float32)\n",
    "data_y = np.asarray(data_y)\n"
   ]
  },
  {
   "cell_type": "code",
   "execution_count": 48,
   "metadata": {},
   "outputs": [],
   "source": [
    "# Computing S_B\n",
    "overall_mean = np.mean(data_x)\n",
    "group_mean = np.mean(data_x, axis=0)\n",
    "S_B = np.zeros((data_x.shape[1] - 1, data_x.shape[1] - 1))\n",
    "#         for c in means.keys():\n",
    "#             S_B += np.multiply(len(self.classwise[c]),\n",
    "#                                np.outer((means[c] - overall_mean), \n",
    "#                                         (means[c] - overall_mean)))\n",
    "for m in group_mean:\n",
    "    S_B += np.multiply(data_x.shape[0], np.outer((m - overall_mean),\n",
    "                                                 (m - overall_mean)))\n",
    "    "
   ]
  },
  {
   "cell_type": "code",
   "execution_count": 55,
   "metadata": {},
   "outputs": [
    {
     "name": "stderr",
     "output_type": "stream",
     "text": [
      "C:\\ProgramData\\Miniconda3\\envs\\DSP\\lib\\site-packages\\ipykernel_launcher.py:7: DeprecationWarning: Both axis > a.ndim and axis < -a.ndim - 1 are deprecated and will raise an AxisError in the future.\n",
      "  import sys\n"
     ]
    }
   ],
   "source": [
    "# Computing S_W\n",
    "(n, classes) = data_x.shape\n",
    "S_W = np.zeros(S_B.shape) \n",
    "#     for c in self.classes: \n",
    "#         tmp = np.subtract(self.drop_col(self.classwise[c], self.labelcol).T, np.expand_dims(means[c], axis=1))\n",
    "#         S_W = np.add(np.dot(tmp, tmp.T), S_W)\n",
    "for c in range(classes):\n",
    "    tmp = np.subtract(data_x[:,c].T, np.expand_dims(group_mean[c], axis=1))\n",
    "    S_W = np.add(np.dot(tmp, tmp.T), S_W)\n"
   ]
  },
  {
   "cell_type": "code",
   "execution_count": 65,
   "metadata": {},
   "outputs": [],
   "source": [
    "mat = np.dot(np.linalg.pinv(S_W), S_B)\n",
    "eigvals, eigvecs = np.linalg.eig(mat)\n",
    "eiglist = [(eigvals[i], eigvecs[:, i]) for i in range(len(eigvals))]\n",
    "\n",
    "# sorting the eigvals in decreasing order\n",
    "eiglist = sorted(eiglist, key = lambda x : x[0], reverse = True)\n"
   ]
  },
  {
   "cell_type": "code",
   "execution_count": 66,
   "metadata": {},
   "outputs": [
    {
     "name": "stdout",
     "output_type": "stream",
     "text": [
      "First Two Eigen values:  2.4036612653829112 3.4672297548636244e-48\n"
     ]
    }
   ],
   "source": [
    "print('First Two Eigen values: ', eiglist[0][0], eiglist[1][0])"
   ]
  }
 ],
 "metadata": {
  "kernelspec": {
   "display_name": "Python 3",
   "language": "python",
   "name": "python3"
  },
  "language_info": {
   "codemirror_mode": {
    "name": "ipython",
    "version": 3
   },
   "file_extension": ".py",
   "mimetype": "text/x-python",
   "name": "python",
   "nbconvert_exporter": "python",
   "pygments_lexer": "ipython3",
   "version": "3.6.7"
  }
 },
 "nbformat": 4,
 "nbformat_minor": 2
}
