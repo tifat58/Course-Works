{
 "cells": [
  {
   "cell_type": "code",
   "execution_count": 1,
   "metadata": {},
   "outputs": [],
   "source": [
    "import numpy as np"
   ]
  },
  {
   "cell_type": "markdown",
   "metadata": {},
   "source": [
    "# 1.1"
   ]
  },
  {
   "cell_type": "code",
   "execution_count": 13,
   "metadata": {},
   "outputs": [],
   "source": [
    "def movement(x0, v0, alpha, delta_t, variance, N):\n",
    "    \n",
    "    xk_array = np.zeros(shape=(N,), dtype=np.double)\n",
    "    vk_array = np.zeros(shape=(N,), dtype=np.double)\n",
    "    noise_array = np.random.normal(0, variance, N)\n",
    "    vk = v0\n",
    "    xk = x0\n",
    "    xk_array[0] = xk\n",
    "    vk_array[0] = vk\n",
    "    for k in range(1,N):\n",
    "        vk_array[k] = vk_array[k-1] + (alpha * delta_t)\n",
    "        xk_array[k] = xk_array[k-1] + (vk_array[k-1] * delta_t) + (0.5 * alpha * (delta_t ** 2)) + noise_array[k]\n",
    "    \n",
    "    return (xk_array, vk_array)\n",
    "        "
   ]
  },
  {
   "cell_type": "markdown",
   "metadata": {},
   "source": [
    "# 1.2"
   ]
  },
  {
   "cell_type": "code",
   "execution_count": 22,
   "metadata": {},
   "outputs": [],
   "source": [
    "def add_noise(xk, vk, var_xk=0, var_vk=0):\n",
    "    \n",
    "    N = len(xk)\n",
    "    xk_noise = np.random.normal(0, var_xk, N)\n",
    "    vk_noise = np.random.normal(0, var_vk, N)\n",
    "    \n",
    "    xk = xk + xk_noise\n",
    "    vk = vk + vk_noise\n",
    "    \n",
    "    return (xk, vk)\n",
    "    "
   ]
  },
  {
   "cell_type": "code",
   "execution_count": 21,
   "metadata": {},
   "outputs": [
    {
     "name": "stdout",
     "output_type": "stream",
     "text": [
      "[4.  4.5 5.  5.5 6.  6.5 7.  7.5 8.  8.5] [3.55763225 3.55526298 6.04289853 4.40149338 5.13230804 6.37633024\n",
      " 7.41744238 8.65658208 7.46858321 6.56919275]\n"
     ]
    }
   ],
   "source": [
    "xk, vk = movement(0, 4, 0.5, 1, 0, 10)\n",
    "xk1, vk1 = add_noise(xk, vk, 1, 1)\n",
    "print(vk, vk1)"
   ]
  },
  {
   "cell_type": "code",
   "execution_count": 17,
   "metadata": {},
   "outputs": [
    {
     "data": {
      "text/plain": [
       "array([3, 5, 7])"
      ]
     },
     "execution_count": 17,
     "metadata": {},
     "output_type": "execute_result"
    }
   ],
   "source": [
    "a = np.array([1,2,3])\n",
    "b = np.array([2,3,4])\n",
    "a+b"
   ]
  }
 ],
 "metadata": {
  "kernelspec": {
   "display_name": "Python 3",
   "language": "python",
   "name": "python3"
  },
  "language_info": {
   "codemirror_mode": {
    "name": "ipython",
    "version": 3
   },
   "file_extension": ".py",
   "mimetype": "text/x-python",
   "name": "python",
   "nbconvert_exporter": "python",
   "pygments_lexer": "ipython3",
   "version": "3.6.7"
  }
 },
 "nbformat": 4,
 "nbformat_minor": 2
}
