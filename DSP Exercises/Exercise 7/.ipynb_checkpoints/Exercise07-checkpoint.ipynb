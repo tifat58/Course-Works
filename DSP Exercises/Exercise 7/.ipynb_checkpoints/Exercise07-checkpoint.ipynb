{
 "cells": [
  {
   "cell_type": "code",
   "execution_count": 1,
   "metadata": {},
   "outputs": [],
   "source": [
    "import numpy as np\n",
    "import scipy\n",
    "from scipy.io import wavfile\n",
    "import librosa"
   ]
  },
  {
   "cell_type": "code",
   "execution_count": 6,
   "metadata": {},
   "outputs": [],
   "source": [
    "noise_frequency = [None] * 5\n",
    "noise_files = [None] * 5\n",
    "for i in range(1,6):\n",
    "    file_name = 'noise' + str(i) + '.wav'\n",
    "    noise_frequency[i-1], noise_files[i-1] = wavfile.read(filename=file_name)\n"
   ]
  },
  {
   "cell_type": "code",
   "execution_count": 33,
   "metadata": {},
   "outputs": [],
   "source": [
    "def approx_noise():\n",
    "    final = np.zeros((48000, 5))\n",
    "    for i in range(5):\n",
    "        file_name = 'noise' + str(i+1) + '.wav'\n",
    "        f, w = wavfile.read(filename=file_name)\n",
    "        ns = np.fft.fft(w)\n",
    "        nss = np.abs(ns)\n",
    "        n_tilda = np.zeros(nss.shape)\n",
    "        for j in range(1,nss.shape[0]):\n",
    "            n_tilda[j] = (0.8 * nss[j-1]) + (0.2 * nss[j])\n",
    "            \n",
    "        final[:,i] = n_tilda\n",
    "    \n",
    "    final_mean = np.mean(final, axis=1)\n",
    "    \n",
    "    return final_mean"
   ]
  },
  {
   "cell_type": "code",
   "execution_count": 42,
   "metadata": {},
   "outputs": [
    {
     "data": {
      "text/plain": [
       "array([-5.74649351e-04,  4.87196740e-05, -6.62344501e-04, ...,\n",
       "        1.24776179e-04,  2.73502507e-04,  8.64218945e-05])"
      ]
     },
     "execution_count": 42,
     "metadata": {},
     "output_type": "execute_result"
    }
   ],
   "source": [
    "infile = 'noisy_sound.wav'\n",
    "w, sr = wavfile.read(infile) # keep native sr (sampling rate) and trans into mono\n",
    "s= np.fft.fft(sr)    # Short-time Fourier transform\n",
    "ss= np.abs(s)         # get magnitude\n",
    "angle= np.angle(s)    # get phase\n",
    "b=np.exp(1.0j* angle) # use this phase information when Inverse Transform\n",
    "\n",
    "f = approx_noise()\n",
    "\n",
    "xs = ss - f\n",
    "xs0 = xs * b\n",
    "y = np.fft.irfft(xs0)\n",
    "\n",
    "outfile = 'out.wav'\n",
    "wavfile.write(outfile, w, (y * 32768).astype(np.int16))\n"
   ]
  },
  {
   "cell_type": "code",
   "execution_count": 45,
   "metadata": {},
   "outputs": [
    {
     "data": {
      "text/plain": [
       "array([0.06615234, 0.07087225, 0.07506397, ..., 0.06227532, 0.07506397,\n",
       "       0.07087225])"
      ]
     },
     "execution_count": 45,
     "metadata": {},
     "output_type": "execute_result"
    }
   ],
   "source": [
    "# load noise only file, stft, and get mean\n",
    "\n",
    "nf, nd = wavfile.read('noise1.wav')\n",
    "ns= librosa.stft(nd) \n",
    "nss= np.abs(ns)\n",
    "mns= np.mean(nss, axis=1) # get mean\n",
    "\n",
    "# subtract noise spectral mean from input spectral, and istft (Inverse Short-Time Fourier Transform)\n",
    "sa= ss - mns.reshape((mns.shape[0],1))  # reshape for broadcast to subtract\n",
    "sa0= sa * b  # apply phase information\n",
    "y= librosa.istft(sa0) # back to time domain signal\n",
    "ss\n",
    "# # save as a wav file\n",
    "# outfile = 'orgi.wav'\n",
    "# wavfile.write(outfile, w, (y * 32768).astype(np.int16)) # save signed 16-bit WAV format\n",
    "# #"
   ]
  }
 ],
 "metadata": {
  "kernelspec": {
   "display_name": "Python 3",
   "language": "python",
   "name": "python3"
  },
  "language_info": {
   "codemirror_mode": {
    "name": "ipython",
    "version": 3
   },
   "file_extension": ".py",
   "mimetype": "text/x-python",
   "name": "python",
   "nbconvert_exporter": "python",
   "pygments_lexer": "ipython3",
   "version": "3.6.4"
  }
 },
 "nbformat": 4,
 "nbformat_minor": 2
}
