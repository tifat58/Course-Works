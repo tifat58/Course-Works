{
 "cells": [
  {
   "cell_type": "code",
   "execution_count": 1,
   "metadata": {},
   "outputs": [
    {
     "ename": "ModuleNotFoundError",
     "evalue": "No module named 'sounddevice'",
     "output_type": "error",
     "traceback": [
      "\u001b[1;31m---------------------------------------------------------------------------\u001b[0m",
      "\u001b[1;31mModuleNotFoundError\u001b[0m                       Traceback (most recent call last)",
      "\u001b[1;32m<ipython-input-1-efc0b3e39147>\u001b[0m in \u001b[0;36m<module>\u001b[1;34m()\u001b[0m\n\u001b[0;32m      1\u001b[0m \u001b[1;32mimport\u001b[0m \u001b[0mnumpy\u001b[0m \u001b[1;32mas\u001b[0m \u001b[0mnp\u001b[0m\u001b[1;33m\u001b[0m\u001b[0m\n\u001b[1;32m----> 2\u001b[1;33m \u001b[1;32mimport\u001b[0m \u001b[0msounddevice\u001b[0m \u001b[1;32mas\u001b[0m \u001b[0msd\u001b[0m\u001b[1;33m\u001b[0m\u001b[0m\n\u001b[0m\u001b[0;32m      3\u001b[0m \u001b[1;32mfrom\u001b[0m \u001b[0mscipy\u001b[0m\u001b[1;33m.\u001b[0m\u001b[0mio\u001b[0m \u001b[1;32mimport\u001b[0m \u001b[0mwavfile\u001b[0m\u001b[1;33m\u001b[0m\u001b[0m\n\u001b[0;32m      4\u001b[0m \u001b[1;32mimport\u001b[0m \u001b[0mlibrosa\u001b[0m\u001b[1;33m\u001b[0m\u001b[0m\n",
      "\u001b[1;31mModuleNotFoundError\u001b[0m: No module named 'sounddevice'"
     ]
    }
   ],
   "source": [
    "import numpy as np\n",
    "import sounddevice as sd\n",
    "from scipy.io import wavfile"
   ]
  },
  {
   "cell_type": "code",
   "execution_count": 51,
   "metadata": {},
   "outputs": [],
   "source": [
    "def cap_phi(signal, order):\n",
    "    Rk = np.zeros( shape=(order,order), dtype=np.double )\n",
    "    length = max(signal.shape)\n",
    "    \n",
    "    for i in range(order):\n",
    "        for k in range(order):\n",
    "            for n in range(order):\n",
    "                a = signal[n-k]\n",
    "                b = signal[n-i]\n",
    "                \n",
    "        \n",
    "    \n",
    "    \n",
    "    for k in range(order):\n",
    "        pk = 0\n",
    "        for n in range(order):\n",
    "            pk += signal[n] * signal[n+k]\n",
    "        Rk[0,k] = pk\n",
    "    \n",
    "    for i in range(1, order):   \n",
    "        r = order - i\n",
    "        Rk[i,i:] = Rk[0,0:r]\n",
    "        Rk[i,0:i] = np.fliplr(Rk[0,1:i])\n",
    "    print(Rk)\n",
    "    return 0"
   ]
  },
  {
   "cell_type": "code",
   "execution_count": 55,
   "metadata": {},
   "outputs": [],
   "source": [
    "def sml_phi(signal, order):\n",
    "    \n",
    "    sml_phi_vect = np.zeros( shape=(order, 1), dtype=np.double )\n",
    "    \n",
    "    for i in range(1,order):\n",
    "        val = 0\n",
    "        for n in range(order):\n",
    "            if (n-i) < 0:\n",
    "                mult = 0\n",
    "            else:\n",
    "                mult = signal[n-i]\n",
    "            val += signal[n] * mult\n",
    "            \n",
    "        sml_phi_vect[i] = val\n",
    "    \n",
    "    return sml_phi_vect"
   ]
  },
  {
   "cell_type": "code",
   "execution_count": 82,
   "metadata": {},
   "outputs": [
    {
     "data": {
      "text/plain": [
       "4"
      ]
     },
     "execution_count": 82,
     "metadata": {},
     "output_type": "execute_result"
    }
   ],
   "source": [
    "a =np.array([[1,2,3,4],\n",
    "    [1,2,3,4]])\n",
    "max(a.shape)"
   ]
  },
  {
   "cell_type": "code",
   "execution_count": 70,
   "metadata": {},
   "outputs": [],
   "source": [
    "duration = 1\n",
    "fs = 48000\n",
    "channel = 1\n",
    "sd.default.samplerate = fs\n",
    "sd.default.channels = channel\n",
    "mr = sd.rec(duration * fs, blocking=True)\n",
    "sd.play(mr)\n",
    "wavfile.write('l.wav', 40000, mr[4000:44000])"
   ]
  },
  {
   "cell_type": "code",
   "execution_count": 80,
   "metadata": {},
   "outputs": [
    {
     "data": {
      "text/plain": [
       "(40000,)"
      ]
     },
     "execution_count": 80,
     "metadata": {},
     "output_type": "execute_result"
    }
   ],
   "source": [
    "f, a_wav = wavfile.read('a.wav')\n",
    "a_wav.shape\n",
    "# sml_phi(mr,10)"
   ]
  },
  {
   "cell_type": "code",
   "execution_count": 76,
   "metadata": {},
   "outputs": [
    {
     "data": {
      "text/plain": [
       "(2,)"
      ]
     },
     "execution_count": 76,
     "metadata": {},
     "output_type": "execute_result"
    }
   ],
   "source": [
    "a_wav.shape"
   ]
  }
 ],
 "metadata": {
  "kernelspec": {
   "display_name": "Python 3",
   "language": "python",
   "name": "python3"
  },
  "language_info": {
   "codemirror_mode": {
    "name": "ipython",
    "version": 3
   },
   "file_extension": ".py",
   "mimetype": "text/x-python",
   "name": "python",
   "nbconvert_exporter": "python",
   "pygments_lexer": "ipython3",
   "version": "3.6.4"
  }
 },
 "nbformat": 4,
 "nbformat_minor": 2
}
